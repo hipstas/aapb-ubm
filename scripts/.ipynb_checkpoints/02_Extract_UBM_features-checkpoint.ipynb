{
 "cells": [
  {
   "cell_type": "code",
   "execution_count": 5,
   "metadata": {},
   "outputs": [
    {
     "name": "stdout",
     "output_type": "stream",
     "text": [
      "unzip:  cannot find or open http://xtra.arloproject.com/datasets/aapb-ubm/Female.zip, http://xtra.arloproject.com/datasets/aapb-ubm/Female.zip.zip or http://xtra.arloproject.com/datasets/aapb-ubm/Female.zip.ZIP.\n",
      "unzip:  cannot find or open http://xtra.arloproject.com/datasets/aapb-ubm/Male.zip, http://xtra.arloproject.com/datasets/aapb-ubm/Male.zip.zip or http://xtra.arloproject.com/datasets/aapb-ubm/Male.zip.ZIP.\n"
     ]
    }
   ],
   "source": [
    "import os\n",
    "try: os.mkdir('/sharedfolder/aapb-ubm/temp_audio')\n",
    "except: pass\n",
    "\n",
    "os.chdir('/sharedfolder/aapb-ubm/temp_audio')\n",
    "\n",
    "#!wget http://xtra.arloproject.com/datasets/aapb-ubm/Female.zip\n",
    "#(75 MB)\n",
    "\n",
    "#!wget http://xtra.arloproject.com/datasets/aapb-ubm/Male.zip\n",
    "#(216 MB)\n",
    "\n",
    "!unzip Female.zip\n",
    "#(75 MB)\n",
    "\n",
    "!unzip Male.zip\n",
    "#(216 MB)"
   ]
  },
  {
   "cell_type": "code",
   "execution_count": null,
   "metadata": {},
   "outputs": [],
   "source": [
    "%%capture\n",
    "import attk\n",
    "attk.batch_extract_vowels('/sharedfolder/aapb-ubm/temp_audio/Female')\n",
    "attk.batch_extract_vowels('/sharedfolder/aapb-ubm/temp_audio/Male')"
   ]
  },
  {
   "cell_type": "code",
   "execution_count": null,
   "metadata": {
    "collapsed": true
   },
   "outputs": [],
   "source": [
    "%%capture\n",
    "## Extract features (MFCCs, deltas, and delta-deltas) from Marco Werman & UBM vowel clips, then write features to CSVs\n",
    "\n",
    "os.chdir('/sharedfolder/aapb-ubm/temp_audio')\n",
    "\n",
    "for dir_name in [item for item in os.listdir('./') if os.path.isdir(item)]:\n",
    "    print(\"> Starting \" + dir_name)\n",
    "    try:\n",
    "        os.chdir(os.path.join(class_dir_pathname, dir_name, '_vowel_clips'))\n",
    "        try: os.mkdir('../_vowel_mfccs_and_deltas')\n",
    "        except: pass\n",
    "        filenames = [item for item in os.listdir('./') if item[-4:].lower()=='.wav']\n",
    "        for filename in filenames:\n",
    "            csv_out_path = '../_vowel_mfccs_and_deltas/' + filename[:-4] + '.mfcc.csv'\n",
    "            if not os.path.isfile(csv_out_path):\n",
    "                try:\n",
    "                    mfccs = attk.get_mfccs_and_deltas(filename)\n",
    "                    if len(mfccs) > 0:\n",
    "                        with open(csv_out_path, 'w') as fo:\n",
    "                            csv_writer = csv.writer(fo)\n",
    "                            csv_writer.writerows(mfccs)  \n",
    "                except Exception as e:\n",
    "                    print('FILE ERROR: ' + filename)\n",
    "                    print(e)\n",
    "    except Exception as e:\n",
    "        print('SKIPPING DIRECTORY: ' + dir_name)     ## Skipping class directories for which we didn't extract vowels\n",
    "        #print(e)"
   ]
  },
  {
   "cell_type": "code",
   "execution_count": null,
   "metadata": {
    "collapsed": true
   },
   "outputs": [],
   "source": []
  },
  {
   "cell_type": "code",
   "execution_count": null,
   "metadata": {
    "collapsed": true
   },
   "outputs": [],
   "source": []
  },
  {
   "cell_type": "code",
   "execution_count": null,
   "metadata": {
    "collapsed": true
   },
   "outputs": [],
   "source": []
  },
  {
   "cell_type": "code",
   "execution_count": null,
   "metadata": {
    "collapsed": true
   },
   "outputs": [],
   "source": [
    "%%capture\n",
    "!pip install git+git://github.com/hipstas/audio-tagging-toolkit"
   ]
  },
  {
   "cell_type": "code",
   "execution_count": null,
   "metadata": {},
   "outputs": [],
   "source": [
    "#import os\n",
    "#import pandas as pd\n",
    "\n",
    "#ubm_label_df = pd.read_csv('/sharedfolder/aapb-ubm/UBM_labels/aapb_ubm_labels_4K_corpus.csv')\n",
    "\n",
    "#ubm_label_df.head()\n"
   ]
  },
  {
   "cell_type": "code",
   "execution_count": null,
   "metadata": {
    "collapsed": true
   },
   "outputs": [],
   "source": [
    "\n",
    "#media_dir_pathname = '/sharedfolder/AAPB_Subset_4000'\n",
    "\n",
    "#class_dir_pathname = '/sharedfolder/aapb-ubm/UBM_classes_temp'\n",
    "\n",
    "#try: os.mkdir(class_dir_pathname)\n",
    "#except: pass"
   ]
  },
  {
   "cell_type": "code",
   "execution_count": null,
   "metadata": {},
   "outputs": [],
   "source": [
    "#%%capture\n",
    "## Excerpting WAV clips corresponding to labels\n",
    "#### (This may take a while.)\n",
    "\n",
    "#mport attk\n",
    "\n",
    "#os.chdir('/sharedfolder/sida_classifier/')\n",
    "\n",
    "#ubm_label_groups = ubm_label_df.groupby(['Media file basename', 'Label'])\n",
    "\n",
    "#for name, group in ubm_label_groups:\n",
    " #   list_of_lists = group.values.tolist()\n",
    "  #  basename, start, duration, label, labeled_by = list_of_lists[0]\n",
    "   # filename = str(basename) + '.mp3'\n",
    "    #media_path = os.path.join(media_dir_pathname, filename)\n",
    "#    temp_wav=False\n",
    " #   if not os.path.isfile(media_path):\n",
    "  #      filename = str(basename) + '.mp4'\n",
    "   #     media_path = os.path.join(media_dir_pathname, filename)\n",
    "    #    #media_path = attk.temp_wav_path(media_path)\n",
    "     #   temp_wav=True\n",
    "#    if not os.path.isfile(media_path):\n",
    " #       print(\"ERROR: \"+media_path)\n",
    "  #  label_dir_pathname = str(os.path.join(class_dir_pathname, label.replace(' ','_')))\n",
    "   # subclip_pairs = []\n",
    "    #for row in list_of_lists:\n",
    "#        basename, start, duration, label, labeled_by = row\n",
    " #       subclip_pairs.append((float(start), float(duration)))\n",
    "    #if temp_wav==True:\n",
    "    #    os.remove(media_path)\n",
    "    #try: subprocess.call(['mkdir', '-p', label_dir_pathname])\n",
    "    #except: pass\n",
    "    #try:\n",
    "    #    attk.subclip_list(media_path, subclip_pairs, label_dir_pathname)\n",
    "    #except Exception as e: \n",
    "    #    print(e)"
   ]
  },
  {
   "cell_type": "code",
   "execution_count": null,
   "metadata": {
    "collapsed": true
   },
   "outputs": [],
   "source": []
  },
  {
   "cell_type": "code",
   "execution_count": null,
   "metadata": {
    "collapsed": true
   },
   "outputs": [],
   "source": []
  },
  {
   "cell_type": "code",
   "execution_count": null,
   "metadata": {
    "collapsed": true
   },
   "outputs": [],
   "source": []
  },
  {
   "cell_type": "code",
   "execution_count": null,
   "metadata": {
    "collapsed": true
   },
   "outputs": [],
   "source": []
  },
  {
   "cell_type": "code",
   "execution_count": null,
   "metadata": {
    "collapsed": true
   },
   "outputs": [],
   "source": []
  },
  {
   "cell_type": "code",
   "execution_count": null,
   "metadata": {
    "collapsed": true
   },
   "outputs": [],
   "source": []
  },
  {
   "cell_type": "code",
   "execution_count": null,
   "metadata": {
    "collapsed": true
   },
   "outputs": [],
   "source": []
  },
  {
   "cell_type": "code",
   "execution_count": null,
   "metadata": {
    "collapsed": true
   },
   "outputs": [],
   "source": []
  }
 ],
 "metadata": {
  "kernelspec": {
   "display_name": "Python 2",
   "language": "python",
   "name": "python2"
  }
 },
 "nbformat": 4,
 "nbformat_minor": 2
}
